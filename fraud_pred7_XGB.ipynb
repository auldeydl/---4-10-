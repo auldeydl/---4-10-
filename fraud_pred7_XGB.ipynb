{
 "cells": [
  {
   "cell_type": "code",
   "execution_count": 1,
   "metadata": {
    "jupyter": {
     "outputs_hidden": false
    }
   },
   "outputs": [],
   "source": [
    "\"\"\"\n",
    "    使用XGB    max_depth=12      Score=\n",
    "                          15?\n",
    "\"\"\"\n",
    "import pandas as pd\n",
    "import warnings\n",
    "warnings.filterwarnings(\"ignore\")"
   ]
  },
  {
   "cell_type": "code",
   "execution_count": 2,
   "metadata": {
    "jupyter": {
     "outputs_hidden": false
    }
   },
   "outputs": [
    {
     "ename": "FileNotFoundError",
     "evalue": "[Errno 2] No such file or directory: 'data/data74063/train.csv'",
     "output_type": "error",
     "traceback": [
      "\u001b[1;31m---------------------------------------------------------------------------\u001b[0m",
      "\u001b[1;31mFileNotFoundError\u001b[0m                         Traceback (most recent call last)",
      "\u001b[1;32m<ipython-input-2-31b0d1b0b60c>\u001b[0m in \u001b[0;36m<module>\u001b[1;34m\u001b[0m\n\u001b[1;32m----> 1\u001b[1;33m \u001b[0mtrain\u001b[0m \u001b[1;33m=\u001b[0m \u001b[0mpd\u001b[0m\u001b[1;33m.\u001b[0m\u001b[0mread_csv\u001b[0m\u001b[1;33m(\u001b[0m\u001b[1;34m'data/data74063/train.csv'\u001b[0m\u001b[1;33m)\u001b[0m\u001b[1;33m\u001b[0m\u001b[1;33m\u001b[0m\u001b[0m\n\u001b[0m\u001b[0;32m      2\u001b[0m \u001b[0mtest1\u001b[0m \u001b[1;33m=\u001b[0m \u001b[0mpd\u001b[0m\u001b[1;33m.\u001b[0m\u001b[0mread_csv\u001b[0m\u001b[1;33m(\u001b[0m\u001b[1;34m'data/data74063/test1.csv'\u001b[0m\u001b[1;33m)\u001b[0m\u001b[1;33m\u001b[0m\u001b[1;33m\u001b[0m\u001b[0m\n\u001b[0;32m      3\u001b[0m \u001b[1;33m\u001b[0m\u001b[0m\n\u001b[0;32m      4\u001b[0m \u001b[0mfeatures\u001b[0m \u001b[1;33m=\u001b[0m \u001b[0mtrain\u001b[0m\u001b[1;33m.\u001b[0m\u001b[0mdrop\u001b[0m\u001b[1;33m(\u001b[0m\u001b[1;33m[\u001b[0m\u001b[1;34m'Unnamed: 0'\u001b[0m\u001b[1;33m,\u001b[0m\u001b[1;34m'label'\u001b[0m\u001b[1;33m]\u001b[0m\u001b[1;33m,\u001b[0m\u001b[0maxis\u001b[0m \u001b[1;33m=\u001b[0m \u001b[1;36m1\u001b[0m\u001b[1;33m)\u001b[0m\u001b[1;33m\u001b[0m\u001b[1;33m\u001b[0m\u001b[0m\n\u001b[0;32m      5\u001b[0m \u001b[0mlabels\u001b[0m \u001b[1;33m=\u001b[0m \u001b[0mtrain\u001b[0m\u001b[1;33m[\u001b[0m\u001b[1;34m'label'\u001b[0m\u001b[1;33m]\u001b[0m\u001b[1;33m\u001b[0m\u001b[1;33m\u001b[0m\u001b[0m\n",
      "\u001b[1;32mD:\\anaconda3\\lib\\site-packages\\pandas\\io\\parsers.py\u001b[0m in \u001b[0;36mread_csv\u001b[1;34m(filepath_or_buffer, sep, delimiter, header, names, index_col, usecols, squeeze, prefix, mangle_dupe_cols, dtype, engine, converters, true_values, false_values, skipinitialspace, skiprows, skipfooter, nrows, na_values, keep_default_na, na_filter, verbose, skip_blank_lines, parse_dates, infer_datetime_format, keep_date_col, date_parser, dayfirst, cache_dates, iterator, chunksize, compression, thousands, decimal, lineterminator, quotechar, quoting, doublequote, escapechar, comment, encoding, dialect, error_bad_lines, warn_bad_lines, delim_whitespace, low_memory, memory_map, float_precision)\u001b[0m\n\u001b[0;32m    684\u001b[0m     )\n\u001b[0;32m    685\u001b[0m \u001b[1;33m\u001b[0m\u001b[0m\n\u001b[1;32m--> 686\u001b[1;33m     \u001b[1;32mreturn\u001b[0m \u001b[0m_read\u001b[0m\u001b[1;33m(\u001b[0m\u001b[0mfilepath_or_buffer\u001b[0m\u001b[1;33m,\u001b[0m \u001b[0mkwds\u001b[0m\u001b[1;33m)\u001b[0m\u001b[1;33m\u001b[0m\u001b[1;33m\u001b[0m\u001b[0m\n\u001b[0m\u001b[0;32m    687\u001b[0m \u001b[1;33m\u001b[0m\u001b[0m\n\u001b[0;32m    688\u001b[0m \u001b[1;33m\u001b[0m\u001b[0m\n",
      "\u001b[1;32mD:\\anaconda3\\lib\\site-packages\\pandas\\io\\parsers.py\u001b[0m in \u001b[0;36m_read\u001b[1;34m(filepath_or_buffer, kwds)\u001b[0m\n\u001b[0;32m    450\u001b[0m \u001b[1;33m\u001b[0m\u001b[0m\n\u001b[0;32m    451\u001b[0m     \u001b[1;31m# Create the parser.\u001b[0m\u001b[1;33m\u001b[0m\u001b[1;33m\u001b[0m\u001b[1;33m\u001b[0m\u001b[0m\n\u001b[1;32m--> 452\u001b[1;33m     \u001b[0mparser\u001b[0m \u001b[1;33m=\u001b[0m \u001b[0mTextFileReader\u001b[0m\u001b[1;33m(\u001b[0m\u001b[0mfp_or_buf\u001b[0m\u001b[1;33m,\u001b[0m \u001b[1;33m**\u001b[0m\u001b[0mkwds\u001b[0m\u001b[1;33m)\u001b[0m\u001b[1;33m\u001b[0m\u001b[1;33m\u001b[0m\u001b[0m\n\u001b[0m\u001b[0;32m    453\u001b[0m \u001b[1;33m\u001b[0m\u001b[0m\n\u001b[0;32m    454\u001b[0m     \u001b[1;32mif\u001b[0m \u001b[0mchunksize\u001b[0m \u001b[1;32mor\u001b[0m \u001b[0miterator\u001b[0m\u001b[1;33m:\u001b[0m\u001b[1;33m\u001b[0m\u001b[1;33m\u001b[0m\u001b[0m\n",
      "\u001b[1;32mD:\\anaconda3\\lib\\site-packages\\pandas\\io\\parsers.py\u001b[0m in \u001b[0;36m__init__\u001b[1;34m(self, f, engine, **kwds)\u001b[0m\n\u001b[0;32m    944\u001b[0m             \u001b[0mself\u001b[0m\u001b[1;33m.\u001b[0m\u001b[0moptions\u001b[0m\u001b[1;33m[\u001b[0m\u001b[1;34m\"has_index_names\"\u001b[0m\u001b[1;33m]\u001b[0m \u001b[1;33m=\u001b[0m \u001b[0mkwds\u001b[0m\u001b[1;33m[\u001b[0m\u001b[1;34m\"has_index_names\"\u001b[0m\u001b[1;33m]\u001b[0m\u001b[1;33m\u001b[0m\u001b[1;33m\u001b[0m\u001b[0m\n\u001b[0;32m    945\u001b[0m \u001b[1;33m\u001b[0m\u001b[0m\n\u001b[1;32m--> 946\u001b[1;33m         \u001b[0mself\u001b[0m\u001b[1;33m.\u001b[0m\u001b[0m_make_engine\u001b[0m\u001b[1;33m(\u001b[0m\u001b[0mself\u001b[0m\u001b[1;33m.\u001b[0m\u001b[0mengine\u001b[0m\u001b[1;33m)\u001b[0m\u001b[1;33m\u001b[0m\u001b[1;33m\u001b[0m\u001b[0m\n\u001b[0m\u001b[0;32m    947\u001b[0m \u001b[1;33m\u001b[0m\u001b[0m\n\u001b[0;32m    948\u001b[0m     \u001b[1;32mdef\u001b[0m \u001b[0mclose\u001b[0m\u001b[1;33m(\u001b[0m\u001b[0mself\u001b[0m\u001b[1;33m)\u001b[0m\u001b[1;33m:\u001b[0m\u001b[1;33m\u001b[0m\u001b[1;33m\u001b[0m\u001b[0m\n",
      "\u001b[1;32mD:\\anaconda3\\lib\\site-packages\\pandas\\io\\parsers.py\u001b[0m in \u001b[0;36m_make_engine\u001b[1;34m(self, engine)\u001b[0m\n\u001b[0;32m   1176\u001b[0m     \u001b[1;32mdef\u001b[0m \u001b[0m_make_engine\u001b[0m\u001b[1;33m(\u001b[0m\u001b[0mself\u001b[0m\u001b[1;33m,\u001b[0m \u001b[0mengine\u001b[0m\u001b[1;33m=\u001b[0m\u001b[1;34m\"c\"\u001b[0m\u001b[1;33m)\u001b[0m\u001b[1;33m:\u001b[0m\u001b[1;33m\u001b[0m\u001b[1;33m\u001b[0m\u001b[0m\n\u001b[0;32m   1177\u001b[0m         \u001b[1;32mif\u001b[0m \u001b[0mengine\u001b[0m \u001b[1;33m==\u001b[0m \u001b[1;34m\"c\"\u001b[0m\u001b[1;33m:\u001b[0m\u001b[1;33m\u001b[0m\u001b[1;33m\u001b[0m\u001b[0m\n\u001b[1;32m-> 1178\u001b[1;33m             \u001b[0mself\u001b[0m\u001b[1;33m.\u001b[0m\u001b[0m_engine\u001b[0m \u001b[1;33m=\u001b[0m \u001b[0mCParserWrapper\u001b[0m\u001b[1;33m(\u001b[0m\u001b[0mself\u001b[0m\u001b[1;33m.\u001b[0m\u001b[0mf\u001b[0m\u001b[1;33m,\u001b[0m \u001b[1;33m**\u001b[0m\u001b[0mself\u001b[0m\u001b[1;33m.\u001b[0m\u001b[0moptions\u001b[0m\u001b[1;33m)\u001b[0m\u001b[1;33m\u001b[0m\u001b[1;33m\u001b[0m\u001b[0m\n\u001b[0m\u001b[0;32m   1179\u001b[0m         \u001b[1;32melse\u001b[0m\u001b[1;33m:\u001b[0m\u001b[1;33m\u001b[0m\u001b[1;33m\u001b[0m\u001b[0m\n\u001b[0;32m   1180\u001b[0m             \u001b[1;32mif\u001b[0m \u001b[0mengine\u001b[0m \u001b[1;33m==\u001b[0m \u001b[1;34m\"python\"\u001b[0m\u001b[1;33m:\u001b[0m\u001b[1;33m\u001b[0m\u001b[1;33m\u001b[0m\u001b[0m\n",
      "\u001b[1;32mD:\\anaconda3\\lib\\site-packages\\pandas\\io\\parsers.py\u001b[0m in \u001b[0;36m__init__\u001b[1;34m(self, src, **kwds)\u001b[0m\n\u001b[0;32m   2006\u001b[0m         \u001b[0mkwds\u001b[0m\u001b[1;33m[\u001b[0m\u001b[1;34m\"usecols\"\u001b[0m\u001b[1;33m]\u001b[0m \u001b[1;33m=\u001b[0m \u001b[0mself\u001b[0m\u001b[1;33m.\u001b[0m\u001b[0musecols\u001b[0m\u001b[1;33m\u001b[0m\u001b[1;33m\u001b[0m\u001b[0m\n\u001b[0;32m   2007\u001b[0m \u001b[1;33m\u001b[0m\u001b[0m\n\u001b[1;32m-> 2008\u001b[1;33m         \u001b[0mself\u001b[0m\u001b[1;33m.\u001b[0m\u001b[0m_reader\u001b[0m \u001b[1;33m=\u001b[0m \u001b[0mparsers\u001b[0m\u001b[1;33m.\u001b[0m\u001b[0mTextReader\u001b[0m\u001b[1;33m(\u001b[0m\u001b[0msrc\u001b[0m\u001b[1;33m,\u001b[0m \u001b[1;33m**\u001b[0m\u001b[0mkwds\u001b[0m\u001b[1;33m)\u001b[0m\u001b[1;33m\u001b[0m\u001b[1;33m\u001b[0m\u001b[0m\n\u001b[0m\u001b[0;32m   2009\u001b[0m         \u001b[0mself\u001b[0m\u001b[1;33m.\u001b[0m\u001b[0munnamed_cols\u001b[0m \u001b[1;33m=\u001b[0m \u001b[0mself\u001b[0m\u001b[1;33m.\u001b[0m\u001b[0m_reader\u001b[0m\u001b[1;33m.\u001b[0m\u001b[0munnamed_cols\u001b[0m\u001b[1;33m\u001b[0m\u001b[1;33m\u001b[0m\u001b[0m\n\u001b[0;32m   2010\u001b[0m \u001b[1;33m\u001b[0m\u001b[0m\n",
      "\u001b[1;32mpandas\\_libs\\parsers.pyx\u001b[0m in \u001b[0;36mpandas._libs.parsers.TextReader.__cinit__\u001b[1;34m()\u001b[0m\n",
      "\u001b[1;32mpandas\\_libs\\parsers.pyx\u001b[0m in \u001b[0;36mpandas._libs.parsers.TextReader._setup_parser_source\u001b[1;34m()\u001b[0m\n",
      "\u001b[1;31mFileNotFoundError\u001b[0m: [Errno 2] No such file or directory: 'data/data74063/train.csv'"
     ]
    }
   ],
   "source": [
    "train = pd.read_csv('data/data74063/train.csv')\n",
    "test1 = pd.read_csv('./test1.csv')\n",
    "\n",
    "features = train.drop(['Unnamed: 0','label'],axis = 1)\n",
    "labels = train['label']"
   ]
  },
  {
   "cell_type": "markdown",
   "metadata": {},
   "source": [
    "#### 构造新特征，特征比大于15的特征为关键特征"
   ]
  },
  {
   "cell_type": "code",
   "execution_count": null,
   "metadata": {
    "jupyter": {
     "outputs_hidden": false
    }
   },
   "outputs": [],
   "source": [
    "#数据探索，找到导致1的关键特征值\n",
    "def find_key_feature(train,selected):\n",
    "    temp = pd.DataFrame(columns = [0,1])\n",
    "    temp[0] = train[train['label']==0][selected].value_counts()/len(train[train['label']==0]) \n",
    "    temp[1] = train[train['label']==1][selected].value_counts()/len(train[train['label']==1]) \n",
    "    temp[2] = temp[1]/temp[0]\n",
    "    #选出大于15倍的特征\n",
    "    result = temp[temp[2]>15].sort_values(2,ascending = False).index\n",
    "    return result\n",
    "\n",
    "key_features = {}\n",
    "selected_col = ['osv','apptype','carrier','dev_height','dev_ppi','dev_width',\n",
    "                'media_id','ntt','version','location','fea1_hash','cus_type']\n",
    "for selected in selected_col:\n",
    "    key_features[selected] = find_key_feature(train,selected)\n",
    "\n",
    "#构造新特征，新特征字段 = 原始特征字段+1\n",
    "def f1(x,selected):\n",
    "    #判断是否在关键特征值里，是1，否0\n",
    "    if x in key_features[selected]:\n",
    "        return 1\n",
    "    else:\n",
    "        return 0\n",
    "\n",
    "for selected in selected_col:\n",
    "    if len(key_features[selected]) > 0:\n",
    "        features[selected + '1'] = features[selected].apply(f1,args = (selected,))\n",
    "        test1[selected + '1'] = test1[selected].apply(f1,args = (selected,))\n",
    "        print(selected+'1 created')"
   ]
  },
  {
   "cell_type": "code",
   "execution_count": null,
   "metadata": {},
   "outputs": [],
   "source": [
    "train"
   ]
  },
  {
   "cell_type": "markdown",
   "metadata": {},
   "source": [
    "#### osv转换为float类型"
   ]
  },
  {
   "cell_type": "code",
   "execution_count": 4,
   "metadata": {
    "jupyter": {
     "outputs_hidden": false
    }
   },
   "outputs": [],
   "source": [
    "#对osv进行数据清洗\n",
    "import re\n",
    "def f2(x):\n",
    "    x = str(x)\n",
    "    x = x.replace('Android_','')\n",
    "    # 4.2.3.2是需要找到的字符\n",
    "    result = re.match('[\\d\\.]+',x)\n",
    "    if result:\n",
    "        x = result.group()    #返回匹配结果\n",
    "        if '.' in x:\n",
    "            #把4.4.3转化成4.43\n",
    "            #找到第一个小数点的位置\n",
    "            index1 = x.index('.')\n",
    "            if index1 > 0:\n",
    "                #去掉所有小数点\n",
    "                x = x.replace('.','')\n",
    "                #加上原来第一个小数点\n",
    "                x = float(x[0:index1]+'.'+x[index1:])\n",
    "        else: x = float(x)\n",
    "    else:\n",
    "        x = 0\n",
    "    #如果版本号过大，7930\n",
    "    if x>1000:\n",
    "        x = x/10000\n",
    "    elif x>11:\n",
    "        x = x/10\n",
    "    return x\n",
    "    \n",
    "features['osv'] = features['osv'].apply(f2)\n",
    "test1['osv'] = test1['osv'].apply(f2)"
   ]
  },
  {
   "cell_type": "markdown",
   "metadata": {},
   "source": [
    "#### 特征筛选"
   ]
  },
  {
   "cell_type": "code",
   "execution_count": 5,
   "metadata": {
    "jupyter": {
     "outputs_hidden": false
    }
   },
   "outputs": [],
   "source": [
    "#类别特征\n",
    "cate_features = ['apptype','carrier','ntt','version','location','cus_type']\n",
    "remove_list = ['os','lan','sid']\n",
    "col = features.columns.tolist()\n",
    "for i in remove_list:\n",
    "    col.remove(i)\n",
    "features = features[col]"
   ]
  },
  {
   "cell_type": "markdown",
   "metadata": {},
   "source": [
    "#### 时间"
   ]
  },
  {
   "cell_type": "code",
   "execution_count": 6,
   "metadata": {
    "jupyter": {
     "outputs_hidden": false
    }
   },
   "outputs": [],
   "source": [
    "import time  \n",
    "from datetime import datetime  \n",
    "\n",
    "def get_date(features):\n",
    "    #除以1000，转换为日期格式\n",
    "    features['timestamp'] = features['timestamp'].apply(lambda x:datetime.fromtimestamp(x/1000))\n",
    "    \n",
    "    #创建时间戳索引\n",
    "    temp = pd.DatetimeIndex(features['timestamp'])\n",
    "    features['year'] = temp.year\n",
    "    features['month'] = temp.month\n",
    "    features['day'] = temp.day\n",
    "    features['week_day'] = temp.weekday\n",
    "    features['hour'] = temp.hour\n",
    "    features['minute'] = temp.minute\n",
    "\n",
    "    #添加time_diff\n",
    "    start_time = features['timestamp'].min()\n",
    "    features['time_diff'] = features['timestamp'] - start_time\n",
    "    \n",
    "    #将time_diff转换为小时\n",
    "    features['time_diff'] = features['time_diff'].dt.days * 24 +features['time_diff'].dt.seconds/3600\n",
    "    \n",
    "    #使用day，time_diff\n",
    "    features.drop(['timestamp','year','month','minute','week_day'],axis = 1,inplace = True)\n",
    "  \n",
    "    return features\n",
    "\n",
    "#对训练集提取时间多尺度\n",
    "features = get_date(features)\n",
    "#对测试集提取时间多尺度\n",
    "test1 = get_date(test1)"
   ]
  },
  {
   "cell_type": "markdown",
   "metadata": {},
   "source": [
    "#### LabelEncoder"
   ]
  },
  {
   "cell_type": "code",
   "execution_count": 7,
   "metadata": {
    "jupyter": {
     "outputs_hidden": false
    }
   },
   "outputs": [],
   "source": [
    "#对lan进行特征编码LabelEncoder\n",
    "from sklearn.preprocessing import LabelEncoder\n",
    "le = LabelEncoder()\n",
    "#需要将训练集和测试集合并，然后统一做LabelEncoder\n",
    "all_df = pd.concat([train,test1])\n",
    "all_df['lan'] = all_df['lan'].astype('str')\n",
    "all_df['lan'] = le.fit_transform(all_df['lan'])"
   ]
  },
  {
   "cell_type": "markdown",
   "metadata": {},
   "source": [
    "#### 数据清洗"
   ]
  },
  {
   "cell_type": "code",
   "execution_count": 8,
   "metadata": {
    "jupyter": {
     "outputs_hidden": false
    }
   },
   "outputs": [],
   "source": [
    "# 对于数值过大的异常值，设置为0\n",
    "features['fea_hash'] = features['fea_hash'].map(lambda x: 0 if len(str(x))>16 else int(x))\n",
    "features['fea1_hash'] = features['fea1_hash'].map(lambda x: 0 if len(str(x))>16 else int(x))\n",
    "\n",
    "#对数据清洗，将V3=>3,V1=>1,V6=>6,V2=>2\n",
    "#针对version，非数值类型 设置0\n",
    "features['version'] = features['version'].map(lambda x: int(x) if str(x).isdigit() else 0)\n",
    "features['lan'] = all_df[all_df['label'].notnull()]['lan']"
   ]
  },
  {
   "cell_type": "code",
   "execution_count": 9,
   "metadata": {
    "jupyter": {
     "outputs_hidden": false
    }
   },
   "outputs": [],
   "source": [
    "#测试集做预测,保持与features中的columns一致\n",
    "test_fea = test1[features.columns]\n",
    "\n",
    "test_fea['fea_hash'] = test_fea['fea_hash'].map(lambda x: 0 if len(str(x))>16 else int(x))\n",
    "test_fea['fea1_hash'] = test_fea['fea1_hash'].map(lambda x: 0 if len(str(x))>16 else int(x))\n",
    "\n",
    "test_fea['version'] = test_fea['version'].map(lambda x: int(x) if str(x).isdigit() else 0)\n",
    "test_fea['lan'] = all_df[all_df['label'].isnull()]['lan']"
   ]
  },
  {
   "cell_type": "code",
   "execution_count": 10,
   "metadata": {
    "jupyter": {
     "outputs_hidden": false
    }
   },
   "outputs": [],
   "source": [
    "from sklearn.model_selection import StratifiedKFold\n",
    "from sklearn.metrics import accuracy_score\n",
    "\n",
    "def ensemble_model(clf,train_x,train_y,test):\n",
    "    #采用十折交叉验证\n",
    "    sk = StratifiedKFold(n_splits = 5,shuffle = True,random_state = 2021)\n",
    "    prob = [] #记录最终结果\n",
    "    mean_acc = 0 #记录平均准确率\n",
    "    for k,(train_index,val_index) in enumerate(sk.split(train_x,train_y)):\n",
    "        train_x_real = train_x.iloc[train_index]\n",
    "        train_y_real = train_y.iloc[train_index]\n",
    "        val_x = train_x.iloc[val_index]\n",
    "        val_y = train_y.iloc[val_index]\n",
    "        # 子模型训练\n",
    "        clf = clf.fit(train_x_real,train_y_real)\n",
    "        val_y_pred = clf.predict(val_x)\n",
    "        #子模型评估\n",
    "        acc_val = accuracy_score(val_y,val_y_pred)\n",
    "        print('第{}个子模型 acc{}'.format(k+1,acc_val))\n",
    "        mean_acc += acc_val/5\n",
    "        #子模型预测0,1\n",
    "        test_y_pred = clf.predict_proba(test)[:,-1] #soft得到概率值\n",
    "        prob.append(test_y_pred)\n",
    "    print(mean_acc)\n",
    "    mean_prob = sum(prob)/5\n",
    "    return mean_prob"
   ]
  },
  {
   "cell_type": "code",
   "execution_count": 11,
   "metadata": {
    "jupyter": {
     "outputs_hidden": false
    }
   },
   "outputs": [
    {
     "name": "stdout",
     "output_type": "stream",
     "text": [
      "[16:43:21] WARNING: ../src/learner.cc:541: \n",
      "Parameters: { min_child_samples } might not be used.\n",
      "\n",
      "  This may not be accurate due to some parameters are only used in language bindings but\n",
      "  passed down to XGBoost core.  Or some parameters are not used but slip through this\n",
      "  verification. Please open an issue if you find above cases.\n",
      "\n",
      "\n"
     ]
    }
   ],
   "source": [
    "import xgboost as xgb\n",
    "# 使用XgBoost训练\n",
    "clf = xgb.XGBClassifier(\n",
    "            max_depth=15, learning_rate=0.05, n_estimators=2000, \n",
    "            objective='binary:logistic', tree_method='gpu_hist', \n",
    "            subsample=0.8, colsample_bytree=0.8, \n",
    "            min_child_samples=3, eval_metric='auc', reg_lambda=0.5,n_jobs=-1\n",
    ")\n",
    "result = ensemble_model(clf,features,labels,test_fea)\n",
    "result"
   ]
  },
  {
   "cell_type": "code",
   "execution_count": 12,
   "metadata": {
    "jupyter": {
     "outputs_hidden": false
    }
   },
   "outputs": [],
   "source": [
    "#保存结果\n",
    "a = pd.DataFrame(test1['sid'])\n",
    "a['label'] =  result\n",
    "b = a\n",
    "#转换为二分类\n",
    "a['label'] = a['label'].apply(lambda x:0 if x<0.5 else 1)\n",
    "a.to_csv('version7_XGB2000.csv',index = False)\n",
    "b.to_csv('version7_XGB_result.csv',index = False)"
   ]
  },
  {
   "cell_type": "code",
   "execution_count": 13,
   "metadata": {
    "jupyter": {
     "outputs_hidden": false
    }
   },
   "outputs": [
    {
     "data": {
      "text/html": [
       "<div>\n",
       "<style scoped>\n",
       "    .dataframe tbody tr th:only-of-type {\n",
       "        vertical-align: middle;\n",
       "    }\n",
       "\n",
       "    .dataframe tbody tr th {\n",
       "        vertical-align: top;\n",
       "    }\n",
       "\n",
       "    .dataframe thead th {\n",
       "        text-align: right;\n",
       "    }\n",
       "</style>\n",
       "<table border=\"1\" class=\"dataframe\">\n",
       "  <thead>\n",
       "    <tr style=\"text-align: right;\">\n",
       "      <th></th>\n",
       "      <th>sid</th>\n",
       "      <th>label</th>\n",
       "    </tr>\n",
       "  </thead>\n",
       "  <tbody>\n",
       "    <tr>\n",
       "      <th>0</th>\n",
       "      <td>1440682</td>\n",
       "      <td>0</td>\n",
       "    </tr>\n",
       "    <tr>\n",
       "      <th>1</th>\n",
       "      <td>1606824</td>\n",
       "      <td>1</td>\n",
       "    </tr>\n",
       "    <tr>\n",
       "      <th>2</th>\n",
       "      <td>1774642</td>\n",
       "      <td>0</td>\n",
       "    </tr>\n",
       "    <tr>\n",
       "      <th>3</th>\n",
       "      <td>1742535</td>\n",
       "      <td>0</td>\n",
       "    </tr>\n",
       "    <tr>\n",
       "      <th>4</th>\n",
       "      <td>1689686</td>\n",
       "      <td>1</td>\n",
       "    </tr>\n",
       "    <tr>\n",
       "      <th>...</th>\n",
       "      <td>...</td>\n",
       "      <td>...</td>\n",
       "    </tr>\n",
       "    <tr>\n",
       "      <th>149995</th>\n",
       "      <td>1165373</td>\n",
       "      <td>1</td>\n",
       "    </tr>\n",
       "    <tr>\n",
       "      <th>149996</th>\n",
       "      <td>1444115</td>\n",
       "      <td>1</td>\n",
       "    </tr>\n",
       "    <tr>\n",
       "      <th>149997</th>\n",
       "      <td>1134378</td>\n",
       "      <td>1</td>\n",
       "    </tr>\n",
       "    <tr>\n",
       "      <th>149998</th>\n",
       "      <td>1700238</td>\n",
       "      <td>1</td>\n",
       "    </tr>\n",
       "    <tr>\n",
       "      <th>149999</th>\n",
       "      <td>1201539</td>\n",
       "      <td>1</td>\n",
       "    </tr>\n",
       "  </tbody>\n",
       "</table>\n",
       "<p>150000 rows × 2 columns</p>\n",
       "</div>"
      ],
      "text/plain": [
       "            sid  label\n",
       "0       1440682      0\n",
       "1       1606824      1\n",
       "2       1774642      0\n",
       "3       1742535      0\n",
       "4       1689686      1\n",
       "...         ...    ...\n",
       "149995  1165373      1\n",
       "149996  1444115      1\n",
       "149997  1134378      1\n",
       "149998  1700238      1\n",
       "149999  1201539      1\n",
       "\n",
       "[150000 rows x 2 columns]"
      ]
     },
     "execution_count": 13,
     "metadata": {},
     "output_type": "execute_result"
    }
   ],
   "source": [
    "a"
   ]
  },
  {
   "cell_type": "code",
   "execution_count": 14,
   "metadata": {
    "jupyter": {
     "outputs_hidden": false
    }
   },
   "outputs": [
    {
     "name": "stdout",
     "output_type": "stream",
     "text": [
      "        Unnamed: 0  android_id  apptype  carrier  dev_height  dev_ppi  \\\n",
      "0                0      316361     1199  46000.0         0.0      0.0   \n",
      "1                1      135939      893      0.0         0.0      0.0   \n",
      "2                2      399254      821      0.0       760.0      0.0   \n",
      "3                3       68983     1004  46000.0      2214.0      0.0   \n",
      "4                4      288999     1076  46000.0      2280.0      0.0   \n",
      "...            ...         ...      ...      ...         ...      ...   \n",
      "499995      499995      392477     1028  46000.0      1920.0      3.0   \n",
      "499996      499996      346134     1001      0.0      1424.0      0.0   \n",
      "499997      499997      499635      761  46000.0      1280.0      0.0   \n",
      "499998      499998      239786      917  46001.0       960.0      0.0   \n",
      "499999      499999      270531      929  46000.0      2040.0      3.0   \n",
      "\n",
      "        dev_width  label    lan  media_id  ...       os    osv package  \\\n",
      "0             0.0      1    NaN       104  ...  android      9      18   \n",
      "1             0.0      1    NaN        19  ...  android    8.1       0   \n",
      "2           360.0      1    NaN       559  ...  android  8.1.0       0   \n",
      "3          1080.0      0    NaN       129  ...  android  8.1.0       0   \n",
      "4          1080.0      1  zh-CN        64  ...  android  8.0.0       0   \n",
      "...           ...    ...    ...       ...  ...      ...    ...     ...   \n",
      "499995     1080.0      1  zh-CN       144  ...  Android  7.1.2      25   \n",
      "499996      720.0      0    NaN        29  ...  android  8.1.0       0   \n",
      "499997      720.0      0    NaN        54  ...  android  6.0.1       9   \n",
      "499998      540.0      0  zh_CN       109  ...  android  5.1.1       0   \n",
      "499999     1080.0      1  zh-CN        59  ...  Android  8.1.0      78   \n",
      "\n",
      "            sid     timestamp  version    fea_hash location   fea1_hash  \\\n",
      "0       1438873  1.559893e+12        8  2135019403        0  2329670524   \n",
      "1       1185582  1.559994e+12        4  2782306428        1  2864801071   \n",
      "2       1555716  1.559837e+12        0  1392806005        2   628911675   \n",
      "3       1093419  1.560042e+12        0  3562553457        3  1283809327   \n",
      "4       1400089  1.559867e+12        5  2364522023        4  1510695983   \n",
      "...         ...           ...      ...         ...      ...         ...   \n",
      "499995  1546078  1.559834e+12        7   861755946       79   140647032   \n",
      "499996  1480612  1.559814e+12        3  1714444511       23  2745131047   \n",
      "499997  1698442  1.559676e+12        0  3843262581       25  1326115882   \n",
      "499998  1331155  1.559840e+12        0  1984296118      225  1446741112   \n",
      "499999  1373973  1.559922e+12        5  1697301943       49  1915763579   \n",
      "\n",
      "        cus_type  \n",
      "0            601  \n",
      "1           1000  \n",
      "2            696  \n",
      "3            753  \n",
      "4            582  \n",
      "...          ...  \n",
      "499995       373  \n",
      "499996       525  \n",
      "499997       810  \n",
      "499998       772  \n",
      "499999      1076  \n",
      "\n",
      "[500000 rows x 21 columns]\n"
     ]
    }
   ],
   "source": [
    "print(train)"
   ]
  },
  {
   "cell_type": "code",
   "execution_count": null,
   "metadata": {
    "jupyter": {
     "outputs_hidden": false
    }
   },
   "outputs": [],
   "source": []
  }
 ],
 "metadata": {
  "kernelspec": {
   "display_name": "Python 3",
   "language": "python",
   "name": "python3"
  },
  "language_info": {
   "codemirror_mode": {
    "name": "ipython",
    "version": 3
   },
   "file_extension": ".py",
   "mimetype": "text/x-python",
   "name": "python",
   "nbconvert_exporter": "python",
   "pygments_lexer": "ipython3",
   "version": "3.8.5"
  },
  "toc": {
   "base_numbering": 1,
   "nav_menu": {},
   "number_sections": true,
   "sideBar": true,
   "skip_h1_title": false,
   "title_cell": "Table of Contents",
   "title_sidebar": "Contents",
   "toc_cell": false,
   "toc_position": {},
   "toc_section_display": true,
   "toc_window_display": false
  },
  "varInspector": {
   "cols": {
    "lenName": 16,
    "lenType": 16,
    "lenVar": 40
   },
   "kernels_config": {
    "python": {
     "delete_cmd_postfix": "",
     "delete_cmd_prefix": "del ",
     "library": "var_list.py",
     "varRefreshCmd": "print(var_dic_list())"
    },
    "r": {
     "delete_cmd_postfix": ") ",
     "delete_cmd_prefix": "rm(",
     "library": "var_list.r",
     "varRefreshCmd": "cat(var_dic_list()) "
    }
   },
   "types_to_exclude": [
    "module",
    "function",
    "builtin_function_or_method",
    "instance",
    "_Feature"
   ],
   "window_display": false
  }
 },
 "nbformat": 4,
 "nbformat_minor": 4
}
