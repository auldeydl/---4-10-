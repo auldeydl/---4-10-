{
 "cells": [
  {
   "cell_type": "code",
   "execution_count": 1,
   "metadata": {},
   "outputs": [],
   "source": [
    "\"\"\"\n",
    "     构造 osv1，版本大于9， Score=0.8821399999999999\n",
    "    构造 osv1，版本大于8， Score=0.882002\n",
    "    \n",
    "    构造多个新特征，特征比大于10， Score=0.8834060000000001\n",
    "                   特征比大于15        0.8828419999999999\n",
    "    对osv进行数据清洗，设置为float类型\n",
    "\"\"\"\n",
    "import pandas as pd\n",
    "import warnings\n",
    "warnings.filterwarnings(\"ignore\")"
   ]
  },
  {
   "cell_type": "code",
   "execution_count": 2,
   "metadata": {},
   "outputs": [],
   "source": [
    "train = pd.read_csv('./train.csv')\n",
    "test1 = pd.read_csv('./test1.csv')\n",
    "\n",
    "features = train.drop(['Unnamed: 0','label'],axis = 1)\n",
    "labels = train['label']"
   ]
  },
  {
   "cell_type": "raw",
   "metadata": {},
   "source": [
    "'''\n",
    "#pd.set_option('display.max_rows',None)\n",
    "#features['osv'].value_counts()\n",
    "# 构造新特征 osv1,判断版本是否>9\n",
    "def f(x):\n",
    "    x = str(x)\n",
    "    x = x.replace('Android_','')\n",
    "    if x[0] == '9':\n",
    "        return 1\n",
    "    elif x[:2] =='10':\n",
    "        return 1\n",
    "    elif x[0] =='8':\n",
    "        return 1\n",
    "    else:\n",
    "        return 0\n",
    "features['osv1'] = features['osv'].apply(f)\n",
    "test1['osv1'] = test1['osv'].apply(f)\n",
    "'''"
   ]
  },
  {
   "cell_type": "code",
   "execution_count": 3,
   "metadata": {},
   "outputs": [],
   "source": [
    "#数据探索，找到导致1的关键特征值\n",
    "def find_key_feature(train,selected):\n",
    "    temp = pd.DataFrame(columns = [0,1])\n",
    "    temp[0] = train[train['label']==0][selected].value_counts()/len(train[train['label']==0]) \n",
    "    temp[1] = train[train['label']==1][selected].value_counts()/len(train[train['label']==1]) \n",
    "    temp[2] = temp[1]/temp[0]\n",
    "    #选出大于十倍的特征\n",
    "    result = temp[temp[2]>10].sort_values(2,ascending = False).index\n",
    "    return result"
   ]
  },
  {
   "cell_type": "code",
   "execution_count": 4,
   "metadata": {},
   "outputs": [],
   "source": [
    "key_features = {}\n",
    "selected_col = ['osv','apptype','carrier','dev_height','dev_ppi','dev_width',\n",
    "                'media_id','ntt','version','location','fea1_hash','cus_type']\n",
    "for selected in selected_col:\n",
    "    key_features[selected] = find_key_feature(train,selected)"
   ]
  },
  {
   "cell_type": "code",
   "execution_count": 5,
   "metadata": {},
   "outputs": [
    {
     "name": "stdout",
     "output_type": "stream",
     "text": [
      "osv1 created\n",
      "apptype1 created\n",
      "dev_height1 created\n",
      "dev_ppi1 created\n",
      "dev_width1 created\n",
      "media_id1 created\n",
      "ntt1 created\n",
      "fea1_hash1 created\n"
     ]
    }
   ],
   "source": [
    "#构造新特征，新特征字段 = 原始特征字段+1\n",
    "def f(x,selected):\n",
    "    #判断是否在关键特征值里，是1，否0\n",
    "    if x in key_features[selected]:\n",
    "        return 1\n",
    "    else:\n",
    "        return 0\n",
    "\n",
    "for selected in selected_col:\n",
    "    if len(key_features[selected]) > 0:\n",
    "        features[selected + '1'] = features[selected].apply(f,args = (selected,))\n",
    "        test1[selected + '1'] = test1[selected].apply(f,args = (selected,))\n",
    "        print(selected+'1 created')"
   ]
  },
  {
   "cell_type": "code",
   "execution_count": 6,
   "metadata": {},
   "outputs": [],
   "source": [
    "#类别特征\n",
    "cate_features = ['apptype','carrier','ntt','version','location','cus_type']\n",
    "#不需要入模'os'（实际是唯一的，都是安卓）,'lan','sid'\n",
    "remove_list = ['os','lan','sid']\n",
    "col = features.columns.tolist()\n",
    "for i in remove_list:\n",
    "    col.remove(i)\n",
    "#特征筛选\n",
    "features = features[col]"
   ]
  },
  {
   "cell_type": "code",
   "execution_count": 7,
   "metadata": {},
   "outputs": [],
   "source": [
    "import time  #python底层日期函数\n",
    "from datetime import datetime  #高级封装接口\n",
    "#print(features['timestamp'][0]/1000)\n",
    "#print(time.time())\n",
    "#print(datetime.fromtimestamp(1615081589.8722358))\n",
    "\n",
    "def get_date(features):\n",
    "    #除以1000，转换为日期格式\n",
    "    features['timestamp'] = features['timestamp'].apply(lambda x:datetime.fromtimestamp(x/1000))\n",
    "    \n",
    "    #创建时间戳索引\n",
    "    temp = pd.DatetimeIndex(features['timestamp'])\n",
    "    features['year'] = temp.year\n",
    "    features['month'] = temp.month\n",
    "    features['day'] = temp.day\n",
    "    features['week_day'] = temp.weekday\n",
    "    features['hour'] = temp.hour\n",
    "    features['minute'] = temp.minute\n",
    "\n",
    "    #添加time_diff\n",
    "    start_time = features['timestamp'].min()\n",
    "    features['time_diff'] = features['timestamp'] - start_time\n",
    "    \n",
    "    #将time_diff转换为小时\n",
    "    features['time_diff'] = features['time_diff'].dt.days * 24 +features['time_diff'].dt.seconds/3600\n",
    "    \n",
    "    #Thinking：需不需要这么多特征？\n",
    "    #使用day，time_diff\n",
    "    features.drop(['timestamp','year','month','minute','week_day'],axis = 1,inplace = True)\n",
    "  \n",
    "    return features\n",
    "\n",
    "#对训练集提取时间多尺度\n",
    "features = get_date(features)\n",
    "#对测试集提取时间多尺度\n",
    "test1 = get_date(test1)"
   ]
  },
  {
   "cell_type": "code",
   "execution_count": 8,
   "metadata": {},
   "outputs": [],
   "source": [
    "#对osv进行特征编码LabelEncoder\n",
    "#还可以转换为Float,需要数据清洗\n",
    "from sklearn.preprocessing import LabelEncoder\n",
    "le = LabelEncoder()\n",
    "#需要将训练集和测试集合并，然后统一做LabelEncoder\n",
    "all_df = pd.concat([train,test1])\n",
    "all_df['osv'] = all_df['osv'].astype('str')\n",
    "all_df['osv'] = le.fit_transform(all_df['osv'])"
   ]
  },
  {
   "cell_type": "code",
   "execution_count": 9,
   "metadata": {},
   "outputs": [],
   "source": [
    "# 对于数值过大的异常值，设置为0\n",
    "features['fea_hash'] = features['fea_hash'].map(lambda x: 0 if len(str(x))>16 else int(x))\n",
    "features['fea1_hash'] = features['fea1_hash'].map(lambda x: 0 if len(str(x))>16 else int(x))\n",
    "\n",
    "#对数据清洗，将V3=>3,V1=>1,V6=>6,V2=>2\n",
    "#针对version，非数值类型 设置0\n",
    "features['version'] = features['version'].map(lambda x: int(x) if str(x).isdigit() else 0)\n",
    "features['osv'] = all_df[all_df['label'].notnull()]['osv']"
   ]
  },
  {
   "cell_type": "code",
   "execution_count": 10,
   "metadata": {},
   "outputs": [],
   "source": [
    "#测试集做预测,保持与features中的columns一致\n",
    "test_fea = test1[features.columns]\n",
    "\n",
    "test_fea['fea_hash'] = test_fea['fea_hash'].map(lambda x: 0 if len(str(x))>16 else int(x))\n",
    "test_fea['fea1_hash'] = test_fea['fea1_hash'].map(lambda x: 0 if len(str(x))>16 else int(x))\n",
    "\n",
    "test_fea['version'] = test_fea['version'].map(lambda x: int(x) if str(x).isdigit() else 0)\n",
    "test_fea['osv'] = all_df[all_df['label'].isnull()]['osv']"
   ]
  },
  {
   "cell_type": "code",
   "execution_count": 11,
   "metadata": {},
   "outputs": [],
   "source": [
    "from sklearn.model_selection import StratifiedKFold\n",
    "from sklearn.metrics import accuracy_score\n",
    "\n",
    "def ensemble_model(clf,train_x,train_y,test,cate_features):\n",
    "    #采用十折交叉验证\n",
    "    sk = StratifiedKFold(n_splits = 10,shuffle = True,random_state = 2021)\n",
    "    prob = [] #记录最终结果\n",
    "    mean_acc = 0 #记录平均准确率\n",
    "    for k,(train_index,val_index) in enumerate(sk.split(train_x,train_y)):\n",
    "        train_x_real = train_x.iloc[train_index]\n",
    "        train_y_real = train_y.iloc[train_index]\n",
    "        val_x = train_x.iloc[val_index]\n",
    "        val_y = train_y.iloc[val_index]\n",
    "        # 子模型训练\n",
    "        clf = clf.fit(train_x_real,train_y_real,categorical_feature = cate_features)\n",
    "        val_y_pred = clf.predict(val_x)\n",
    "        #子模型评估\n",
    "        acc_val = accuracy_score(val_y,val_y_pred)\n",
    "        print('第{}个子模型 acc{}'.format(k+1,acc_val))\n",
    "        mean_acc += acc_val/10\n",
    "        #子模型预测0,1\n",
    "        test_y_pred = clf.predict_proba(test)[:,-1] #soft得到概率值\n",
    "        prob.append(test_y_pred)\n",
    "    print(mean_acc)\n",
    "    mean_prob = sum(prob)/10\n",
    "    return mean_prob"
   ]
  },
  {
   "cell_type": "code",
   "execution_count": 12,
   "metadata": {},
   "outputs": [
    {
     "name": "stdout",
     "output_type": "stream",
     "text": [
      "第1个子模型 acc0.8841529267765857\n",
      "第2个子模型 acc0.8834149326805385\n",
      "第3个子模型 acc0.8814889480884153\n",
      "第4个子模型 acc0.8843509251925985\n",
      "第5个子模型 acc0.8819749442004464\n",
      "第6个子模型 acc0.8842588425884259\n",
      "第7个子模型 acc0.8828548285482855\n",
      "第8个子模型 acc0.8820088200882009\n",
      "第9个子模型 acc0.8845288452884529\n",
      "0.8832260014946611\n"
     ]
    },
    {
     "data": {
      "text/plain": [
       "array([0.07225999, 0.46052101, 0.02298351, ..., 0.85408489, 0.87709334,\n",
       "       0.87121425])"
      ]
     },
     "execution_count": 12,
     "metadata": {},
     "output_type": "execute_result"
    }
   ],
   "source": [
    "import lightgbm as lgb\n",
    "# 使用LightGBM训练\n",
    "# 相比XGBoost的改进：对类别特征的处理，不需要one-hot\n",
    "clf = lgb.LGBMClassifier()\n",
    "#clf.fit(features,labels,categorical_feature = cate_features)\n",
    "result = ensemble_model(clf,features,labels,test_fea,cate_features)\n",
    "result"
   ]
  },
  {
   "cell_type": "code",
   "execution_count": 13,
   "metadata": {},
   "outputs": [],
   "source": [
    "#保存结果\n",
    "a = pd.DataFrame(test1['sid'])\n",
    "a['label'] =  result\n",
    "#转换为二分类\n",
    "a['label'] = a['label'].apply(lambda x:0 if x<0.5 else 1)\n",
    "a.to_csv('version5.csv',index = False)"
   ]
  },
  {
   "cell_type": "code",
   "execution_count": 14,
   "metadata": {},
   "outputs": [
    {
     "data": {
      "text/html": [
       "<div>\n",
       "<style scoped>\n",
       "    .dataframe tbody tr th:only-of-type {\n",
       "        vertical-align: middle;\n",
       "    }\n",
       "\n",
       "    .dataframe tbody tr th {\n",
       "        vertical-align: top;\n",
       "    }\n",
       "\n",
       "    .dataframe thead th {\n",
       "        text-align: right;\n",
       "    }\n",
       "</style>\n",
       "<table border=\"1\" class=\"dataframe\">\n",
       "  <thead>\n",
       "    <tr style=\"text-align: right;\">\n",
       "      <th></th>\n",
       "      <th>sid</th>\n",
       "      <th>label</th>\n",
       "    </tr>\n",
       "  </thead>\n",
       "  <tbody>\n",
       "    <tr>\n",
       "      <th>0</th>\n",
       "      <td>1440682</td>\n",
       "      <td>0</td>\n",
       "    </tr>\n",
       "    <tr>\n",
       "      <th>1</th>\n",
       "      <td>1606824</td>\n",
       "      <td>0</td>\n",
       "    </tr>\n",
       "    <tr>\n",
       "      <th>2</th>\n",
       "      <td>1774642</td>\n",
       "      <td>0</td>\n",
       "    </tr>\n",
       "    <tr>\n",
       "      <th>3</th>\n",
       "      <td>1742535</td>\n",
       "      <td>0</td>\n",
       "    </tr>\n",
       "    <tr>\n",
       "      <th>4</th>\n",
       "      <td>1689686</td>\n",
       "      <td>1</td>\n",
       "    </tr>\n",
       "    <tr>\n",
       "      <th>...</th>\n",
       "      <td>...</td>\n",
       "      <td>...</td>\n",
       "    </tr>\n",
       "    <tr>\n",
       "      <th>149995</th>\n",
       "      <td>1165373</td>\n",
       "      <td>1</td>\n",
       "    </tr>\n",
       "    <tr>\n",
       "      <th>149996</th>\n",
       "      <td>1444115</td>\n",
       "      <td>1</td>\n",
       "    </tr>\n",
       "    <tr>\n",
       "      <th>149997</th>\n",
       "      <td>1134378</td>\n",
       "      <td>1</td>\n",
       "    </tr>\n",
       "    <tr>\n",
       "      <th>149998</th>\n",
       "      <td>1700238</td>\n",
       "      <td>1</td>\n",
       "    </tr>\n",
       "    <tr>\n",
       "      <th>149999</th>\n",
       "      <td>1201539</td>\n",
       "      <td>1</td>\n",
       "    </tr>\n",
       "  </tbody>\n",
       "</table>\n",
       "<p>150000 rows × 2 columns</p>\n",
       "</div>"
      ],
      "text/plain": [
       "            sid  label\n",
       "0       1440682      0\n",
       "1       1606824      0\n",
       "2       1774642      0\n",
       "3       1742535      0\n",
       "4       1689686      1\n",
       "...         ...    ...\n",
       "149995  1165373      1\n",
       "149996  1444115      1\n",
       "149997  1134378      1\n",
       "149998  1700238      1\n",
       "149999  1201539      1\n",
       "\n",
       "[150000 rows x 2 columns]"
      ]
     },
     "execution_count": 14,
     "metadata": {},
     "output_type": "execute_result"
    }
   ],
   "source": [
    "a"
   ]
  },
  {
   "cell_type": "code",
   "execution_count": null,
   "metadata": {},
   "outputs": [],
   "source": []
  }
 ],
 "metadata": {
  "kernelspec": {
   "display_name": "Python 3",
   "language": "python",
   "name": "python3"
  },
  "language_info": {
   "codemirror_mode": {
    "name": "ipython",
    "version": 3
   },
   "file_extension": ".py",
   "mimetype": "text/x-python",
   "name": "python",
   "nbconvert_exporter": "python",
   "pygments_lexer": "ipython3",
   "version": "3.8.5"
  }
 },
 "nbformat": 4,
 "nbformat_minor": 4
}
