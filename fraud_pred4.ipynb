{
 "cells": [
  {
   "cell_type": "code",
   "execution_count": 1,
   "metadata": {},
   "outputs": [],
   "source": [
    "\"\"\"\n",
    "    使用k折交叉验证\n",
    "    产生五个子模型，然后进行简单平均得到结果\n",
    "        13         0.8818800040081638\n",
    "        12         0.881872001664893\n",
    "        11         0.8820820022098543\n",
    "        10         0.8818940000000002\n",
    "        9          0.8821280002345706\n",
    "        8          0.8819619999999999\n",
    "        7          0.881914001538335\n",
    "        6          0.8819460006522197\n",
    "\"\"\"\n",
    "import pandas as pd\n",
    "import warnings\n",
    "warnings.filterwarnings(\"ignore\")"
   ]
  },
  {
   "cell_type": "code",
   "execution_count": 2,
   "metadata": {},
   "outputs": [],
   "source": [
    "train = pd.read_csv('./train.csv')\n",
    "test1 = pd.read_csv('./test1.csv')"
   ]
  },
  {
   "cell_type": "code",
   "execution_count": 3,
   "metadata": {},
   "outputs": [],
   "source": [
    "features = train.drop(['Unnamed: 0','label'],axis = 1)\n",
    "labels = train['label']"
   ]
  },
  {
   "cell_type": "code",
   "execution_count": 4,
   "metadata": {},
   "outputs": [],
   "source": [
    "#类别特征\n",
    "cate_features = ['apptype','carrier','ntt','version','location','cus_type']\n",
    "#不需要入模'os'（实际是唯一的，都是安卓）,'lan','sid'\n",
    "remove_list = ['os','lan','sid']\n",
    "col = features.columns.tolist()\n",
    "for i in remove_list:\n",
    "    col.remove(i)\n",
    "#特征筛选\n",
    "features = features[col]"
   ]
  },
  {
   "cell_type": "code",
   "execution_count": 5,
   "metadata": {},
   "outputs": [],
   "source": [
    "import time  #python底层日期函数\n",
    "from datetime import datetime  #高级封装接口\n",
    "#print(features['timestamp'][0]/1000)\n",
    "#print(time.time())\n",
    "#print(datetime.fromtimestamp(1615081589.8722358))\n",
    "\n",
    "def get_date(features):\n",
    "    #除以1000，转换为日期格式\n",
    "    features['timestamp'] = features['timestamp'].apply(lambda x:datetime.fromtimestamp(x/1000))\n",
    "    \n",
    "    #创建时间戳索引\n",
    "    temp = pd.DatetimeIndex(features['timestamp'])\n",
    "    features['year'] = temp.year\n",
    "    features['month'] = temp.month\n",
    "    features['day'] = temp.day\n",
    "    features['week_day'] = temp.weekday\n",
    "    features['hour'] = temp.hour\n",
    "    features['minute'] = temp.minute\n",
    "\n",
    "    #添加time_diff\n",
    "    start_time = features['timestamp'].min()\n",
    "    features['time_diff'] = features['timestamp'] - start_time\n",
    "    \n",
    "    #将time_diff转换为小时\n",
    "    features['time_diff'] = features['time_diff'].dt.days * 24 +features['time_diff'].dt.seconds/3600\n",
    "    \n",
    "    #Thinking：需不需要这么多特征？\n",
    "    #使用day，time_diff\n",
    "    features.drop(['timestamp','year','month','minute','week_day'],axis = 1,inplace = True)\n",
    "  \n",
    "    return features\n",
    "\n",
    "#对训练集提取时间多尺度\n",
    "features = get_date(features)\n",
    "#对测试集提取时间多尺度\n",
    "test1 = get_date(test1)"
   ]
  },
  {
   "cell_type": "code",
   "execution_count": 6,
   "metadata": {},
   "outputs": [],
   "source": [
    "#对osv进行特征编码LabelEncoder\n",
    "#还可以转换为Float,需要数据清洗\n",
    "from sklearn.preprocessing import LabelEncoder\n",
    "le = LabelEncoder()\n",
    "#需要将训练集和测试集合并，然后统一做LabelEncoder\n",
    "all_df = pd.concat([train,test1])\n",
    "all_df['osv'] = all_df['osv'].astype('str')\n",
    "all_df['osv'] = le.fit_transform(all_df['osv'])"
   ]
  },
  {
   "cell_type": "code",
   "execution_count": 7,
   "metadata": {},
   "outputs": [],
   "source": [
    "# 对于数值过大的异常值，设置为0\n",
    "features['fea_hash'] = features['fea_hash'].map(lambda x: 0 if len(str(x))>16 else int(x))\n",
    "features['fea1_hash'] = features['fea1_hash'].map(lambda x: 0 if len(str(x))>16 else int(x))\n",
    "\n",
    "#对数据清洗，将V3=>3,V1=>1,V6=>6,V2=>2\n",
    "#针对version，非数值类型 设置0\n",
    "features['version'] = features['version'].map(lambda x: int(x) if str(x).isdigit() else 0)\n",
    "features['osv'] = all_df[all_df['label'].notnull()]['osv']"
   ]
  },
  {
   "cell_type": "code",
   "execution_count": 8,
   "metadata": {},
   "outputs": [],
   "source": [
    "#测试集做预测,保持与features中的columns一致\n",
    "test_fea = test1[features.columns]\n",
    "\n",
    "test_fea['fea_hash'] = test_fea['fea_hash'].map(lambda x: 0 if len(str(x))>16 else int(x))\n",
    "test_fea['fea1_hash'] = test_fea['fea1_hash'].map(lambda x: 0 if len(str(x))>16 else int(x))\n",
    "\n",
    "test_fea['version'] = test_fea['version'].map(lambda x: int(x) if str(x).isdigit() else 0)\n",
    "test_fea['osv'] = all_df[all_df['label'].isnull()]['osv']"
   ]
  },
  {
   "cell_type": "code",
   "execution_count": 21,
   "metadata": {},
   "outputs": [],
   "source": [
    "from sklearn.model_selection import StratifiedKFold\n",
    "from sklearn.metrics import accuracy_score\n",
    "\n",
    "n = 13\n",
    "def ensemble_model(clf,train_x,train_y,test,cate_features):\n",
    "    #采用十折交叉验证\n",
    "    sk = StratifiedKFold(n_splits = n,shuffle = True,random_state = 2021)\n",
    "    prob = [] #记录最终结果\n",
    "    mean_acc = 0 #记录平均准确率\n",
    "    for k,(train_index,val_index) in enumerate(sk.split(train_x,train_y)):\n",
    "        train_x_real = train_x.iloc[train_index]\n",
    "        train_y_real = train_y.iloc[train_index]\n",
    "        val_x = train_x.iloc[val_index]\n",
    "        val_y = train_y.iloc[val_index]\n",
    "        # 子模型训练\n",
    "        clf = clf.fit(train_x_real,train_y_real,categorical_feature = cate_features)\n",
    "        val_y_pred = clf.predict(val_x)\n",
    "        #子模型评估\n",
    "        acc_val = accuracy_score(val_y,val_y_pred)\n",
    "        print('第{}个子模型 acc{}'.format(k+1,acc_val))\n",
    "        mean_acc += acc_val/n\n",
    "        #子模型预测0,1\n",
    "        test_y_pred = clf.predict_proba(test)[:,-1] #soft得到概率值\n",
    "        prob.append(test_y_pred)\n",
    "    print(mean_acc)\n",
    "    mean_prob = sum(prob)/n\n",
    "    return mean_prob"
   ]
  },
  {
   "cell_type": "code",
   "execution_count": 22,
   "metadata": {},
   "outputs": [
    {
     "name": "stdout",
     "output_type": "stream",
     "text": [
      "第1个子模型 acc0.8825594092870885\n",
      "第2个子模型 acc0.8814154230149238\n",
      "第3个子模型 acc0.8817534189589725\n",
      "第4个子模型 acc0.8803494358067703\n",
      "第5个子模型 acc0.8811034267588789\n",
      "第6个子模型 acc0.8820394155270137\n",
      "第7个子模型 acc0.8819354167749986\n",
      "第8个子模型 acc0.8830243623410727\n",
      "第9个子模型 acc0.8835443696211747\n",
      "第10个子模型 acc0.8789943059202829\n",
      "第11个子模型 acc0.8819323470528587\n",
      "第12个子模型 acc0.8818283455968383\n",
      "第13个子模型 acc0.8839603754452562\n",
      "0.8818800040081638\n"
     ]
    },
    {
     "data": {
      "text/plain": [
       "array([0.10038123, 0.74431844, 0.03477555, ..., 1.22265933, 1.24846021,\n",
       "       1.25404282])"
      ]
     },
     "execution_count": 22,
     "metadata": {},
     "output_type": "execute_result"
    }
   ],
   "source": [
    "import lightgbm as lgb\n",
    "# 使用LightGBM训练\n",
    "# 相比XGBoost的改进：对类别特征的处理，不需要one-hot\n",
    "clf = lgb.LGBMClassifier()\n",
    "#clf.fit(features,labels,categorical_feature = cate_features)\n",
    "result = ensemble_model(clf,features,labels,test_fea,cate_features)\n",
    "result"
   ]
  },
  {
   "cell_type": "raw",
   "metadata": {},
   "source": [
    "#保存结果\n",
    "a = pd.DataFrame(test1['sid'])\n",
    "a['label'] =  result\n",
    "#转换为二分类\n",
    "a['label'] = a['label'].apply(lambda x:0 if x<0.5 else 1)\n",
    "a.to_csv('version4.csv',index = False)"
   ]
  },
  {
   "cell_type": "raw",
   "metadata": {},
   "source": [
    "a"
   ]
  },
  {
   "cell_type": "code",
   "execution_count": null,
   "metadata": {},
   "outputs": [],
   "source": []
  }
 ],
 "metadata": {
  "kernelspec": {
   "display_name": "Python 3",
   "language": "python",
   "name": "python3"
  },
  "language_info": {
   "codemirror_mode": {
    "name": "ipython",
    "version": 3
   },
   "file_extension": ".py",
   "mimetype": "text/x-python",
   "name": "python",
   "nbconvert_exporter": "python",
   "pygments_lexer": "ipython3",
   "version": "3.8.5"
  }
 },
 "nbformat": 4,
 "nbformat_minor": 4
}
