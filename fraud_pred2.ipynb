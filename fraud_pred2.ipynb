{
 "cells": [
  {
   "cell_type": "code",
   "execution_count": 1,
   "metadata": {},
   "outputs": [],
   "source": [
    "# baseline改进，使用特征osv          ?osv变成float\n",
    "import pandas as pd\n",
    "import warnings\n",
    "warnings.filterwarnings(\"ignore\")"
   ]
  },
  {
   "cell_type": "code",
   "execution_count": 2,
   "metadata": {},
   "outputs": [],
   "source": [
    "train = pd.read_csv('./train.csv')\n",
    "test1 = pd.read_csv('./test1.csv')"
   ]
  },
  {
   "cell_type": "code",
   "execution_count": 4,
   "metadata": {},
   "outputs": [
    {
     "data": {
      "text/plain": [
       "Index(['android_id', 'apptype', 'carrier', 'dev_height', 'dev_ppi',\n",
       "       'dev_width', 'lan', 'media_id', 'ntt', 'os', 'osv', 'package', 'sid',\n",
       "       'timestamp', 'version', 'fea_hash', 'location', 'fea1_hash',\n",
       "       'cus_type'],\n",
       "      dtype='object')"
      ]
     },
     "execution_count": 4,
     "metadata": {},
     "output_type": "execute_result"
    }
   ],
   "source": [
    "features = train.drop(['Unnamed: 0','label'],axis = 1)\n",
    "labels = train['label']"
   ]
  },
  {
   "cell_type": "code",
   "execution_count": 5,
   "metadata": {},
   "outputs": [
    {
     "name": "stdout",
     "output_type": "stream",
     "text": [
      "<class 'pandas.core.frame.DataFrame'>\n",
      "RangeIndex: 500000 entries, 0 to 499999\n",
      "Data columns (total 21 columns):\n",
      " #   Column      Non-Null Count   Dtype  \n",
      "---  ------      --------------   -----  \n",
      " 0   Unnamed: 0  500000 non-null  int64  \n",
      " 1   android_id  500000 non-null  int64  \n",
      " 2   apptype     500000 non-null  int64  \n",
      " 3   carrier     500000 non-null  float64\n",
      " 4   dev_height  500000 non-null  float64\n",
      " 5   dev_ppi     500000 non-null  float64\n",
      " 6   dev_width   500000 non-null  float64\n",
      " 7   label       500000 non-null  int64  \n",
      " 8   lan         316720 non-null  object \n",
      " 9   media_id    500000 non-null  int64  \n",
      " 10  ntt         500000 non-null  float64\n",
      " 11  os          500000 non-null  object \n",
      " 12  osv         493439 non-null  object \n",
      " 13  package     500000 non-null  int64  \n",
      " 14  sid         500000 non-null  int64  \n",
      " 15  timestamp   500000 non-null  float64\n",
      " 16  version     500000 non-null  object \n",
      " 17  fea_hash    500000 non-null  object \n",
      " 18  location    500000 non-null  int64  \n",
      " 19  fea1_hash   500000 non-null  int64  \n",
      " 20  cus_type    500000 non-null  int64  \n",
      "dtypes: float64(6), int64(10), object(5)\n",
      "memory usage: 80.1+ MB\n"
     ]
    }
   ],
   "source": [
    "#找object\n",
    "train.info()"
   ]
  },
  {
   "cell_type": "code",
   "execution_count": 6,
   "metadata": {},
   "outputs": [
    {
     "data": {
      "text/plain": [
       "Unnamed: 0         0\n",
       "android_id         0\n",
       "apptype            0\n",
       "carrier            0\n",
       "dev_height         0\n",
       "dev_ppi            0\n",
       "dev_width          0\n",
       "label              0\n",
       "lan           183280\n",
       "media_id           0\n",
       "ntt                0\n",
       "os                 0\n",
       "osv             6561\n",
       "package            0\n",
       "sid                0\n",
       "timestamp          0\n",
       "version            0\n",
       "fea_hash           0\n",
       "location           0\n",
       "fea1_hash          0\n",
       "cus_type           0\n",
       "dtype: int64"
      ]
     },
     "execution_count": 6,
     "metadata": {},
     "output_type": "execute_result"
    }
   ],
   "source": [
    "#找缺省值\n",
    "train.isnull().sum()"
   ]
  },
  {
   "cell_type": "code",
   "execution_count": 7,
   "metadata": {},
   "outputs": [
    {
     "name": "stdout",
     "output_type": "stream",
     "text": [
      "android_id 362258\n",
      "apptype 89\n",
      "carrier 5\n",
      "dev_height 798\n",
      "dev_ppi 92\n",
      "dev_width 346\n",
      "lan 21\n",
      "media_id 284\n",
      "ntt 8\n",
      "os 2\n",
      "osv 154\n",
      "package 1950\n",
      "sid 500000\n",
      "timestamp 500000\n",
      "version 22\n",
      "fea_hash 402980\n",
      "location 332\n",
      "fea1_hash 4959\n",
      "cus_type 58\n"
     ]
    }
   ],
   "source": [
    "#查看字段唯一值个数\n",
    "for feature in features.columns:\n",
    "    print(feature, train[feature].nunique())"
   ]
  },
  {
   "cell_type": "code",
   "execution_count": 8,
   "metadata": {},
   "outputs": [
    {
     "data": {
      "text/plain": [
       " 46000.0    359409\n",
       " 46001.0     43390\n",
       " 0.0         40652\n",
       " 46003.0     32294\n",
       "-1.0         24255\n",
       "Name: carrier, dtype: int64"
      ]
     },
     "execution_count": 8,
     "metadata": {},
     "output_type": "execute_result"
    }
   ],
   "source": [
    "#carrier属于类别特征，不是数值特征\n",
    "features['carrier'].value_counts()"
   ]
  },
  {
   "cell_type": "code",
   "execution_count": 9,
   "metadata": {},
   "outputs": [
    {
     "data": {
      "text/plain": [
       "8.1.0            151419\n",
       "9                 71332\n",
       "6.0.1             31714\n",
       "7.1.1             26503\n",
       "9.0.0             24385\n",
       "                  ...  \n",
       "8.0.2                 1\n",
       "Android_5.0.1         1\n",
       "9.1                   1\n",
       "Android_4.4.3         1\n",
       "Android 7.1           1\n",
       "Name: osv, Length: 154, dtype: int64"
      ]
     },
     "execution_count": 9,
     "metadata": {},
     "output_type": "execute_result"
    }
   ],
   "source": [
    "train['osv'].value_counts()"
   ]
  },
  {
   "cell_type": "code",
   "execution_count": 11,
   "metadata": {},
   "outputs": [
    {
     "data": {
      "text/plain": [
       "['android_id',\n",
       " 'apptype',\n",
       " 'carrier',\n",
       " 'dev_height',\n",
       " 'dev_ppi',\n",
       " 'dev_width',\n",
       " 'media_id',\n",
       " 'ntt',\n",
       " 'osv',\n",
       " 'package',\n",
       " 'timestamp',\n",
       " 'version',\n",
       " 'fea_hash',\n",
       " 'location',\n",
       " 'fea1_hash',\n",
       " 'cus_type']"
      ]
     },
     "execution_count": 11,
     "metadata": {},
     "output_type": "execute_result"
    }
   ],
   "source": [
    "#类别特征\n",
    "cate_features = ['apptype','carrier','ntt','version','location','cus_type']\n",
    "#不需要入模'os'（实际是唯一的，都是安卓）,'lan','sid'\n",
    "remove_list = ['os','lan','sid']\n",
    "col = features.columns.tolist()\n",
    "for i in remove_list:\n",
    "    col.remove(i)\n",
    "col"
   ]
  },
  {
   "cell_type": "code",
   "execution_count": 12,
   "metadata": {},
   "outputs": [
    {
     "data": {
      "text/html": [
       "<div>\n",
       "<style scoped>\n",
       "    .dataframe tbody tr th:only-of-type {\n",
       "        vertical-align: middle;\n",
       "    }\n",
       "\n",
       "    .dataframe tbody tr th {\n",
       "        vertical-align: top;\n",
       "    }\n",
       "\n",
       "    .dataframe thead th {\n",
       "        text-align: right;\n",
       "    }\n",
       "</style>\n",
       "<table border=\"1\" class=\"dataframe\">\n",
       "  <thead>\n",
       "    <tr style=\"text-align: right;\">\n",
       "      <th></th>\n",
       "      <th>android_id</th>\n",
       "      <th>apptype</th>\n",
       "      <th>carrier</th>\n",
       "      <th>dev_height</th>\n",
       "      <th>dev_ppi</th>\n",
       "      <th>dev_width</th>\n",
       "      <th>media_id</th>\n",
       "      <th>ntt</th>\n",
       "      <th>osv</th>\n",
       "      <th>package</th>\n",
       "      <th>timestamp</th>\n",
       "      <th>version</th>\n",
       "      <th>fea_hash</th>\n",
       "      <th>location</th>\n",
       "      <th>fea1_hash</th>\n",
       "      <th>cus_type</th>\n",
       "    </tr>\n",
       "  </thead>\n",
       "  <tbody>\n",
       "    <tr>\n",
       "      <th>0</th>\n",
       "      <td>316361</td>\n",
       "      <td>1199</td>\n",
       "      <td>46000.0</td>\n",
       "      <td>0.0</td>\n",
       "      <td>0.0</td>\n",
       "      <td>0.0</td>\n",
       "      <td>104</td>\n",
       "      <td>6.0</td>\n",
       "      <td>9</td>\n",
       "      <td>18</td>\n",
       "      <td>1.559893e+12</td>\n",
       "      <td>8</td>\n",
       "      <td>2135019403</td>\n",
       "      <td>0</td>\n",
       "      <td>2329670524</td>\n",
       "      <td>601</td>\n",
       "    </tr>\n",
       "    <tr>\n",
       "      <th>1</th>\n",
       "      <td>135939</td>\n",
       "      <td>893</td>\n",
       "      <td>0.0</td>\n",
       "      <td>0.0</td>\n",
       "      <td>0.0</td>\n",
       "      <td>0.0</td>\n",
       "      <td>19</td>\n",
       "      <td>6.0</td>\n",
       "      <td>8.1</td>\n",
       "      <td>0</td>\n",
       "      <td>1.559994e+12</td>\n",
       "      <td>4</td>\n",
       "      <td>2782306428</td>\n",
       "      <td>1</td>\n",
       "      <td>2864801071</td>\n",
       "      <td>1000</td>\n",
       "    </tr>\n",
       "    <tr>\n",
       "      <th>2</th>\n",
       "      <td>399254</td>\n",
       "      <td>821</td>\n",
       "      <td>0.0</td>\n",
       "      <td>760.0</td>\n",
       "      <td>0.0</td>\n",
       "      <td>360.0</td>\n",
       "      <td>559</td>\n",
       "      <td>0.0</td>\n",
       "      <td>8.1.0</td>\n",
       "      <td>0</td>\n",
       "      <td>1.559837e+12</td>\n",
       "      <td>0</td>\n",
       "      <td>1392806005</td>\n",
       "      <td>2</td>\n",
       "      <td>628911675</td>\n",
       "      <td>696</td>\n",
       "    </tr>\n",
       "    <tr>\n",
       "      <th>3</th>\n",
       "      <td>68983</td>\n",
       "      <td>1004</td>\n",
       "      <td>46000.0</td>\n",
       "      <td>2214.0</td>\n",
       "      <td>0.0</td>\n",
       "      <td>1080.0</td>\n",
       "      <td>129</td>\n",
       "      <td>2.0</td>\n",
       "      <td>8.1.0</td>\n",
       "      <td>0</td>\n",
       "      <td>1.560042e+12</td>\n",
       "      <td>0</td>\n",
       "      <td>3562553457</td>\n",
       "      <td>3</td>\n",
       "      <td>1283809327</td>\n",
       "      <td>753</td>\n",
       "    </tr>\n",
       "    <tr>\n",
       "      <th>4</th>\n",
       "      <td>288999</td>\n",
       "      <td>1076</td>\n",
       "      <td>46000.0</td>\n",
       "      <td>2280.0</td>\n",
       "      <td>0.0</td>\n",
       "      <td>1080.0</td>\n",
       "      <td>64</td>\n",
       "      <td>2.0</td>\n",
       "      <td>8.0.0</td>\n",
       "      <td>0</td>\n",
       "      <td>1.559867e+12</td>\n",
       "      <td>5</td>\n",
       "      <td>2364522023</td>\n",
       "      <td>4</td>\n",
       "      <td>1510695983</td>\n",
       "      <td>582</td>\n",
       "    </tr>\n",
       "    <tr>\n",
       "      <th>...</th>\n",
       "      <td>...</td>\n",
       "      <td>...</td>\n",
       "      <td>...</td>\n",
       "      <td>...</td>\n",
       "      <td>...</td>\n",
       "      <td>...</td>\n",
       "      <td>...</td>\n",
       "      <td>...</td>\n",
       "      <td>...</td>\n",
       "      <td>...</td>\n",
       "      <td>...</td>\n",
       "      <td>...</td>\n",
       "      <td>...</td>\n",
       "      <td>...</td>\n",
       "      <td>...</td>\n",
       "      <td>...</td>\n",
       "    </tr>\n",
       "    <tr>\n",
       "      <th>499995</th>\n",
       "      <td>392477</td>\n",
       "      <td>1028</td>\n",
       "      <td>46000.0</td>\n",
       "      <td>1920.0</td>\n",
       "      <td>3.0</td>\n",
       "      <td>1080.0</td>\n",
       "      <td>144</td>\n",
       "      <td>6.0</td>\n",
       "      <td>7.1.2</td>\n",
       "      <td>25</td>\n",
       "      <td>1.559834e+12</td>\n",
       "      <td>7</td>\n",
       "      <td>861755946</td>\n",
       "      <td>79</td>\n",
       "      <td>140647032</td>\n",
       "      <td>373</td>\n",
       "    </tr>\n",
       "    <tr>\n",
       "      <th>499996</th>\n",
       "      <td>346134</td>\n",
       "      <td>1001</td>\n",
       "      <td>0.0</td>\n",
       "      <td>1424.0</td>\n",
       "      <td>0.0</td>\n",
       "      <td>720.0</td>\n",
       "      <td>29</td>\n",
       "      <td>2.0</td>\n",
       "      <td>8.1.0</td>\n",
       "      <td>0</td>\n",
       "      <td>1.559814e+12</td>\n",
       "      <td>3</td>\n",
       "      <td>1714444511</td>\n",
       "      <td>23</td>\n",
       "      <td>2745131047</td>\n",
       "      <td>525</td>\n",
       "    </tr>\n",
       "    <tr>\n",
       "      <th>499997</th>\n",
       "      <td>499635</td>\n",
       "      <td>761</td>\n",
       "      <td>46000.0</td>\n",
       "      <td>1280.0</td>\n",
       "      <td>0.0</td>\n",
       "      <td>720.0</td>\n",
       "      <td>54</td>\n",
       "      <td>6.0</td>\n",
       "      <td>6.0.1</td>\n",
       "      <td>9</td>\n",
       "      <td>1.559676e+12</td>\n",
       "      <td>0</td>\n",
       "      <td>3843262581</td>\n",
       "      <td>25</td>\n",
       "      <td>1326115882</td>\n",
       "      <td>810</td>\n",
       "    </tr>\n",
       "    <tr>\n",
       "      <th>499998</th>\n",
       "      <td>239786</td>\n",
       "      <td>917</td>\n",
       "      <td>46001.0</td>\n",
       "      <td>960.0</td>\n",
       "      <td>0.0</td>\n",
       "      <td>540.0</td>\n",
       "      <td>109</td>\n",
       "      <td>2.0</td>\n",
       "      <td>5.1.1</td>\n",
       "      <td>0</td>\n",
       "      <td>1.559840e+12</td>\n",
       "      <td>0</td>\n",
       "      <td>1984296118</td>\n",
       "      <td>225</td>\n",
       "      <td>1446741112</td>\n",
       "      <td>772</td>\n",
       "    </tr>\n",
       "    <tr>\n",
       "      <th>499999</th>\n",
       "      <td>270531</td>\n",
       "      <td>929</td>\n",
       "      <td>46000.0</td>\n",
       "      <td>2040.0</td>\n",
       "      <td>3.0</td>\n",
       "      <td>1080.0</td>\n",
       "      <td>59</td>\n",
       "      <td>2.0</td>\n",
       "      <td>8.1.0</td>\n",
       "      <td>78</td>\n",
       "      <td>1.559922e+12</td>\n",
       "      <td>5</td>\n",
       "      <td>1697301943</td>\n",
       "      <td>49</td>\n",
       "      <td>1915763579</td>\n",
       "      <td>1076</td>\n",
       "    </tr>\n",
       "  </tbody>\n",
       "</table>\n",
       "<p>500000 rows × 16 columns</p>\n",
       "</div>"
      ],
      "text/plain": [
       "        android_id  apptype  carrier  dev_height  dev_ppi  dev_width  \\\n",
       "0           316361     1199  46000.0         0.0      0.0        0.0   \n",
       "1           135939      893      0.0         0.0      0.0        0.0   \n",
       "2           399254      821      0.0       760.0      0.0      360.0   \n",
       "3            68983     1004  46000.0      2214.0      0.0     1080.0   \n",
       "4           288999     1076  46000.0      2280.0      0.0     1080.0   \n",
       "...            ...      ...      ...         ...      ...        ...   \n",
       "499995      392477     1028  46000.0      1920.0      3.0     1080.0   \n",
       "499996      346134     1001      0.0      1424.0      0.0      720.0   \n",
       "499997      499635      761  46000.0      1280.0      0.0      720.0   \n",
       "499998      239786      917  46001.0       960.0      0.0      540.0   \n",
       "499999      270531      929  46000.0      2040.0      3.0     1080.0   \n",
       "\n",
       "        media_id  ntt    osv  package     timestamp version    fea_hash  \\\n",
       "0            104  6.0      9       18  1.559893e+12       8  2135019403   \n",
       "1             19  6.0    8.1        0  1.559994e+12       4  2782306428   \n",
       "2            559  0.0  8.1.0        0  1.559837e+12       0  1392806005   \n",
       "3            129  2.0  8.1.0        0  1.560042e+12       0  3562553457   \n",
       "4             64  2.0  8.0.0        0  1.559867e+12       5  2364522023   \n",
       "...          ...  ...    ...      ...           ...     ...         ...   \n",
       "499995       144  6.0  7.1.2       25  1.559834e+12       7   861755946   \n",
       "499996        29  2.0  8.1.0        0  1.559814e+12       3  1714444511   \n",
       "499997        54  6.0  6.0.1        9  1.559676e+12       0  3843262581   \n",
       "499998       109  2.0  5.1.1        0  1.559840e+12       0  1984296118   \n",
       "499999        59  2.0  8.1.0       78  1.559922e+12       5  1697301943   \n",
       "\n",
       "        location   fea1_hash  cus_type  \n",
       "0              0  2329670524       601  \n",
       "1              1  2864801071      1000  \n",
       "2              2   628911675       696  \n",
       "3              3  1283809327       753  \n",
       "4              4  1510695983       582  \n",
       "...          ...         ...       ...  \n",
       "499995        79   140647032       373  \n",
       "499996        23  2745131047       525  \n",
       "499997        25  1326115882       810  \n",
       "499998       225  1446741112       772  \n",
       "499999        49  1915763579      1076  \n",
       "\n",
       "[500000 rows x 16 columns]"
      ]
     },
     "execution_count": 12,
     "metadata": {},
     "output_type": "execute_result"
    }
   ],
   "source": [
    "#特征筛选\n",
    "features = features[col]\n",
    "features"
   ]
  },
  {
   "cell_type": "code",
   "execution_count": 19,
   "metadata": {},
   "outputs": [],
   "source": [
    "#对osv进行特征编码LabelEncoder\n",
    "#还可以转换为Float,需要数据清洗\n",
    "from sklearn.preprocessing import LabelEncoder\n",
    "le = LabelEncoder()\n",
    "#需要将训练集和测试集合并，然后统一做LabelEncoder\n",
    "all_df = pd.concat([train,test1])\n",
    "all_df['osv'] = all_df['osv'].astype('str')\n",
    "all_df['osv'] = le.fit_transform(all_df['osv'])"
   ]
  },
  {
   "cell_type": "code",
   "execution_count": 20,
   "metadata": {},
   "outputs": [
    {
     "data": {
      "text/plain": [
       "68083895      110\n",
       "235856055      99\n",
       "51306679       91\n",
       "2815114810     77\n",
       "16777343       60\n",
       "             ... \n",
       "2856033499      1\n",
       "2175192677      1\n",
       "2989345463      1\n",
       "3239274719      1\n",
       "3373383863      1\n",
       "Name: fea_hash, Length: 402980, dtype: int64"
      ]
     },
     "execution_count": 20,
     "metadata": {},
     "output_type": "execute_result"
    }
   ],
   "source": [
    "# 特征变换\n",
    "features['fea_hash'].value_counts()"
   ]
  },
  {
   "cell_type": "code",
   "execution_count": 21,
   "metadata": {},
   "outputs": [
    {
     "data": {
      "text/plain": [
       "10    391669\n",
       "9      99347\n",
       "8       8977\n",
       "7          6\n",
       "5          1\n",
       "Name: fea1_hash, dtype: int64"
      ]
     },
     "execution_count": 21,
     "metadata": {},
     "output_type": "execute_result"
    }
   ],
   "source": [
    "features['fea_hash'].map(lambda x: len(str(x))).value_counts()\n",
    "features['fea1_hash'].map(lambda x: len(str(x))).value_counts()"
   ]
  },
  {
   "cell_type": "code",
   "execution_count": 22,
   "metadata": {},
   "outputs": [],
   "source": [
    "# 对于数值过大的异常值，设置为0\n",
    "features['fea_hash'] = features['fea_hash'].map(lambda x: 0 if len(str(x))>16 else int(x))\n",
    "features['fea1_hash'] = features['fea1_hash'].map(lambda x: 0 if len(str(x))>16 else int(x))"
   ]
  },
  {
   "cell_type": "code",
   "execution_count": 23,
   "metadata": {},
   "outputs": [],
   "source": [
    "#对数据清洗，将V3=>3,V1=>1,V6=>6,V2=>2\n",
    "#针对version，非数值类型 设置0\n",
    "features['version'] = features['version'].map(lambda x: int(x) if str(x).isdigit() else 0)\n",
    "features['osv'] = all_df[all_df['label'].notnull()]['osv']"
   ]
  },
  {
   "cell_type": "code",
   "execution_count": 24,
   "metadata": {},
   "outputs": [
    {
     "data": {
      "text/plain": [
       "LGBMClassifier()"
      ]
     },
     "execution_count": 24,
     "metadata": {},
     "output_type": "execute_result"
    }
   ],
   "source": [
    "import lightgbm as lgb\n",
    "# 使用LightGBM训练\n",
    "# 相比XGBoost的改进：对类别特征的处理，不需要one-hot\n",
    "clf = lgb.LGBMClassifier()\n",
    "clf.fit(features,labels,categorical_feature = cate_features)"
   ]
  },
  {
   "cell_type": "code",
   "execution_count": 25,
   "metadata": {},
   "outputs": [],
   "source": [
    "#测试集做预测,保持与features中的columns一致\n",
    "test_fea = test1[features.columns]\n",
    "\n",
    "test_fea['fea_hash'] = test_fea['fea_hash'].map(lambda x: 0 if len(str(x))>16 else int(x))\n",
    "test_fea['fea1_hash'] = test_fea['fea1_hash'].map(lambda x: 0 if len(str(x))>16 else int(x))\n",
    "\n",
    "test_fea['version'] = test_fea['version'].map(lambda x: int(x) if str(x).isdigit() else 0)\n",
    "test_fea['osv'] = all_df[all_df['label'].isnull()]['osv']"
   ]
  },
  {
   "cell_type": "code",
   "execution_count": 26,
   "metadata": {},
   "outputs": [],
   "source": [
    "a = pd.DataFrame(test1['sid'])\n",
    "a['label'] =  clf.predict(test_fea)\n",
    "a.to_csv('version2.csv',index = False)"
   ]
  },
  {
   "cell_type": "code",
   "execution_count": 64,
   "metadata": {},
   "outputs": [
    {
     "data": {
      "text/html": [
       "<div>\n",
       "<style scoped>\n",
       "    .dataframe tbody tr th:only-of-type {\n",
       "        vertical-align: middle;\n",
       "    }\n",
       "\n",
       "    .dataframe tbody tr th {\n",
       "        vertical-align: top;\n",
       "    }\n",
       "\n",
       "    .dataframe thead th {\n",
       "        text-align: right;\n",
       "    }\n",
       "</style>\n",
       "<table border=\"1\" class=\"dataframe\">\n",
       "  <thead>\n",
       "    <tr style=\"text-align: right;\">\n",
       "      <th></th>\n",
       "      <th>sid</th>\n",
       "      <th>label</th>\n",
       "    </tr>\n",
       "  </thead>\n",
       "  <tbody>\n",
       "    <tr>\n",
       "      <th>0</th>\n",
       "      <td>1440682</td>\n",
       "      <td>0</td>\n",
       "    </tr>\n",
       "    <tr>\n",
       "      <th>1</th>\n",
       "      <td>1606824</td>\n",
       "      <td>1</td>\n",
       "    </tr>\n",
       "    <tr>\n",
       "      <th>2</th>\n",
       "      <td>1774642</td>\n",
       "      <td>0</td>\n",
       "    </tr>\n",
       "    <tr>\n",
       "      <th>3</th>\n",
       "      <td>1742535</td>\n",
       "      <td>0</td>\n",
       "    </tr>\n",
       "    <tr>\n",
       "      <th>4</th>\n",
       "      <td>1689686</td>\n",
       "      <td>1</td>\n",
       "    </tr>\n",
       "    <tr>\n",
       "      <th>...</th>\n",
       "      <td>...</td>\n",
       "      <td>...</td>\n",
       "    </tr>\n",
       "    <tr>\n",
       "      <th>149995</th>\n",
       "      <td>1165373</td>\n",
       "      <td>1</td>\n",
       "    </tr>\n",
       "    <tr>\n",
       "      <th>149996</th>\n",
       "      <td>1444115</td>\n",
       "      <td>1</td>\n",
       "    </tr>\n",
       "    <tr>\n",
       "      <th>149997</th>\n",
       "      <td>1134378</td>\n",
       "      <td>1</td>\n",
       "    </tr>\n",
       "    <tr>\n",
       "      <th>149998</th>\n",
       "      <td>1700238</td>\n",
       "      <td>1</td>\n",
       "    </tr>\n",
       "    <tr>\n",
       "      <th>149999</th>\n",
       "      <td>1201539</td>\n",
       "      <td>1</td>\n",
       "    </tr>\n",
       "  </tbody>\n",
       "</table>\n",
       "<p>150000 rows × 2 columns</p>\n",
       "</div>"
      ],
      "text/plain": [
       "            sid  label\n",
       "0       1440682      0\n",
       "1       1606824      1\n",
       "2       1774642      0\n",
       "3       1742535      0\n",
       "4       1689686      1\n",
       "...         ...    ...\n",
       "149995  1165373      1\n",
       "149996  1444115      1\n",
       "149997  1134378      1\n",
       "149998  1700238      1\n",
       "149999  1201539      1\n",
       "\n",
       "[150000 rows x 2 columns]"
      ]
     },
     "execution_count": 64,
     "metadata": {},
     "output_type": "execute_result"
    }
   ],
   "source": [
    "a"
   ]
  }
 ],
 "metadata": {
  "kernelspec": {
   "display_name": "Python 3",
   "language": "python",
   "name": "python3"
  },
  "language_info": {
   "codemirror_mode": {
    "name": "ipython",
    "version": 3
   },
   "file_extension": ".py",
   "mimetype": "text/x-python",
   "name": "python",
   "nbconvert_exporter": "python",
   "pygments_lexer": "ipython3",
   "version": "3.8.5"
  }
 },
 "nbformat": 4,
 "nbformat_minor": 4
}
